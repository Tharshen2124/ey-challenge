{
 "cells": [
  {
   "cell_type": "markdown",
   "metadata": {},
   "source": [
    "# Getting the features from the KML File \n",
    "\n",
    "Some terms you need to keep in mind here:\n",
    "- Feature -> does not mean the attributes or properties, it refers to individual geographical entities (in this case, buildings)"
   ]
  },
  {
   "cell_type": "markdown",
   "metadata": {},
   "source": [
    "We will need to use these packages to achieve this:\n",
    "- `geopandas` - extends pandas to work with geospatial data\n",
    "- `xml.etree.ElementTree` - built in library for XML parsing\n",
    "- `shapely` - turns coordinate lists into actual geographic shapes that GeoDataFrames can understand"
   ]
  },
  {
   "cell_type": "code",
   "execution_count": 33,
   "metadata": {},
   "outputs": [],
   "source": [
    "import geopandas as gpd\n",
    "from shapely.geometry import Polygon\n",
    "import xml.etree.ElementTree as ET"
   ]
  },
  {
   "cell_type": "markdown",
   "metadata": {},
   "source": [
    "In this function, it parses the coordinate string into a Polygon"
   ]
  },
  {
   "cell_type": "code",
   "execution_count": 34,
   "metadata": {},
   "outputs": [],
   "source": [
    "def parse_kml_coordinates(coord_string):\n",
    "    # Split coordinates and convert to float pairs\n",
    "    coords = [tuple(map(float, coord.split(',')[:2])) for coord in coord_string.split()]\n",
    "    return Polygon(coords)"
   ]
  },
  {
   "cell_type": "markdown",
   "metadata": {},
   "source": [
    "If you're wondering why we can use an XML parser for a KML file, its because a KML file is in XML-based format. Its just designed for geographical annotation. But its still XML code you could say.\n",
    "\n",
    "In this function, we use it to read the KML file and return a GeoDataFrame of it."
   ]
  },
  {
   "cell_type": "code",
   "execution_count": 35,
   "metadata": {},
   "outputs": [],
   "source": [
    "def read_kml_with_elementtree(file_path):\n",
    "    # Parse the KML file\n",
    "    tree = ET.parse(file_path)\n",
    "    root = tree.getroot()\n",
    "\n",
    "    # Define namespaces\n",
    "    namespaces = {\n",
    "        'kml': 'http://www.opengis.net/kml/2.2'\n",
    "    }\n",
    "\n",
    "    # Find all Placemarks from the kml file\n",
    "    features = []\n",
    "    for placemark in root.findall('.//kml:Placemark', namespaces):\n",
    "        # Extract extended data\n",
    "        extended_data = {}\n",
    "        for simple_data in placemark.findall('.//kml:SimpleData', namespaces):\n",
    "            name = simple_data.get('name')\n",
    "            value = simple_data.text\n",
    "            extended_data[name] = value\n",
    "\n",
    "        # Find coordinates\n",
    "        coord_elem = placemark.find('.//kml:coordinates', namespaces)\n",
    "        \n",
    "        # strip() removes trailing whitespace from the texts\n",
    "        geom = parse_kml_coordinates(coord_elem.text.strip())\n",
    "        \n",
    "        # Create a feature dictionary\n",
    "        feature = {\n",
    "            'geometry': geom,\n",
    "            **extended_data  # Merge extended data\n",
    "        }\n",
    "        features.append(feature)\n",
    "\n",
    "    # Create GeoDataFrame\n",
    "    gdf = gpd.GeoDataFrame(features, crs=\"EPSG:4326\")\n",
    "    \n",
    "    return gdf"
   ]
  },
  {
   "cell_type": "markdown",
   "metadata": {},
   "source": [
    "Now we can read the KML file using our function and show the features (buildings) from our dataset."
   ]
  },
  {
   "cell_type": "code",
   "execution_count": 36,
   "metadata": {},
   "outputs": [
    {
     "name": "stdout",
     "output_type": "stream",
     "text": [
      "                                            geometry tessellate extrude  \\\n",
      "0  POLYGON ((-73.91903 40.8482, -73.91933 40.8479...         -1       0   \n",
      "1  POLYGON ((-73.92195 40.84963, -73.92191 40.849...         -1       0   \n",
      "2  POLYGON ((-73.9205 40.85011, -73.92045 40.8501...         -1       0   \n",
      "3  POLYGON ((-73.92056 40.8514, -73.92053 40.8514...         -1       0   \n",
      "4  POLYGON ((-73.91234 40.85218, -73.91247 40.852...         -1       0   \n",
      "\n",
      "  visibility               id   fid       layer  \\\n",
      "0         -1    cugir009034.3  7624  clip_Bronx   \n",
      "1         -1    cugir009034.4  7625  clip_Bronx   \n",
      "2         -1    cugir009034.5  7626  clip_Bronx   \n",
      "3         -1    cugir009034.6  7627  clip_Bronx   \n",
      "4         -1  cugir009034.142  7829  clip_Bronx   \n",
      "\n",
      "                                                path  \n",
      "0  /Users/killo/Desktop/Clip_Bronx.kml|layername=...  \n",
      "1  /Users/killo/Desktop/Clip_Bronx.kml|layername=...  \n",
      "2  /Users/killo/Desktop/Clip_Bronx.kml|layername=...  \n",
      "3  /Users/killo/Desktop/Clip_Bronx.kml|layername=...  \n",
      "4  /Users/killo/Desktop/Clip_Bronx.kml|layername=...  \n",
      "\n",
      "Total features: 9436\n"
     ]
    }
   ],
   "source": [
    "buildings_gdf = read_kml_with_elementtree('./Dataset/Building_Footprint.kml')\n",
    "print(buildings_gdf.head())\n",
    "print(\"\\nTotal features:\", len(buildings_gdf))"
   ]
  }
 ],
 "metadata": {
  "kernelspec": {
   "display_name": "ey-challenge-Rr9l2_Tn",
   "language": "python",
   "name": "python3"
  },
  "language_info": {
   "codemirror_mode": {
    "name": "ipython",
    "version": 3
   },
   "file_extension": ".py",
   "mimetype": "text/x-python",
   "name": "python",
   "nbconvert_exporter": "python",
   "pygments_lexer": "ipython3",
   "version": "3.11.7"
  }
 },
 "nbformat": 4,
 "nbformat_minor": 2
}
